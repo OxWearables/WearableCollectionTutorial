{
 "cells": [
  {
   "cell_type": "markdown",
   "id": "844860da-c9de-47a7-81f8-72267a01d490",
   "metadata": {},
   "source": [
    "# Measuring behaviour from cameras and accelerometer"
   ]
  },
  {
   "cell_type": "code",
   "execution_count": null,
   "id": "3f4ca30e-d469-41d7-9fdb-f209f0ff0017",
   "metadata": {},
   "outputs": [],
   "source": [
    "# Imports\n",
    "import sys\n",
    "from pathlib import Path\n",
    "from datetime import datetime\n",
    "import numpy as np\n",
    "import matplotlib.pyplot as plt\n",
    "import actipy  # for reading in accelerometer data\n",
    "\n",
    "from PIL import Image\n",
    "\n",
    "sys.path.append(\"scripts\")\n",
    "# Local scripts\n",
    "import autographer\n",
    "from sensorplot import ImageData, ScalarData, VectorData, SensorPlot\n",
    "from annotate import notebook_annotation"
   ]
  },
  {
   "cell_type": "markdown",
   "id": "5cb2c846-7e4e-4eff-97ee-674006d5829a",
   "metadata": {},
   "source": [
    "# 1. Prepare camera and accelerometer data"
   ]
  },
  {
   "cell_type": "markdown",
   "id": "76f61d90-3a17-4e07-b3dc-afacfe442a0b",
   "metadata": {},
   "source": [
    "## Camera processing\n",
    "Plug in the Autographer wearable camera to the computer. "
   ]
  },
  {
   "cell_type": "code",
   "execution_count": null,
   "id": "ac945807-dcb1-4ac4-8a71-05a35658b2d9",
   "metadata": {},
   "outputs": [],
   "source": [
    "# Check the Autographer pops up, i.e. no \"No such file or directory\" errors\n",
    "!ls /Volumes/Autographer/DATA"
   ]
  },
  {
   "cell_type": "code",
   "execution_count": null,
   "id": "6493e884-2e52-4b36-8786-26ba689fcd02",
   "metadata": {},
   "outputs": [],
   "source": [
    "# Download the data\n",
    "autographer.downloadData(\"/Volumes/Autographer/\", \"raw_data/camera/\")"
   ]
  },
  {
   "cell_type": "code",
   "execution_count": null,
   "id": "d24039d5-9329-4e38-a628-422fee894f14",
   "metadata": {},
   "outputs": [],
   "source": [
    "# If the above was successful probably want to delete the camera data\n",
    "# autographer.deleteCameraData(\"/Volumes/Autographer/\") # uncomment to run"
   ]
  },
  {
   "cell_type": "code",
   "execution_count": null,
   "id": "28285948-bd3f-4f82-b297-4f71d11a1280",
   "metadata": {},
   "outputs": [],
   "source": [
    "# List of image paths and the times from these paths\n",
    "#             \"20231114_182809\"\n",
    "time_format = \"%Y%m%d_%H%M%S\"\n",
    "\n",
    "def get_img_times(paths):\n",
    "    return [datetime.strptime(path.parts[-1][17:32], time_format) for path in paths]\n",
    "\n",
    "small_img_paths = list(Path(\"raw_data/camera/small\").glob(\"*.JPG\"))\n",
    "small_img_times = get_img_times(small_img_paths)\n",
    "\n",
    "tuples = list(zip(small_img_paths, small_img_times))\n",
    "tuples.sort(key=lambda x: x[0])\n",
    "\n",
    "small_img_paths, small_img_times = zip(*tuples)"
   ]
  },
  {
   "cell_type": "code",
   "execution_count": null,
   "id": "fae25b96-a078-4ca1-855f-fe17eaaf2118",
   "metadata": {},
   "outputs": [],
   "source": [
    "n_imgs_to_show = 10\n",
    "n_rows = 2\n",
    "n_cols = 5\n",
    "\n",
    "plt.figure(figsize=(20, 10))\n",
    "\n",
    "for i, (img_path, img_time) in enumerate(zip(small_img_paths[:n_imgs_to_show], small_img_times[:n_imgs_to_show]), 1):\n",
    "    plt.subplot(n_rows, n_cols, i)\n",
    "    plt.imshow(Image.open(img_path))\n",
    "    plt.title(img_time.strftime(\"%Hh%Mm%Ss\"))\n",
    "    plt.axis(\"off\")\n",
    "\n",
    "plt.tight_layout()\n",
    "plt.show()"
   ]
  },
  {
   "cell_type": "markdown",
   "id": "e090155b-21b2-4897-a24e-26b503e5a908",
   "metadata": {},
   "source": [
    "## Accelerometer processing\n",
    "Plug in the Axivity"
   ]
  },
  {
   "cell_type": "code",
   "execution_count": null,
   "id": "5fecc4b3-38c9-41a0-b009-4083b8759018",
   "metadata": {},
   "outputs": [],
   "source": [
    "# Check the Autographer pops up, i.e. something like AX317_43923 under /Volumes\n",
    "!ls /Volumes"
   ]
  },
  {
   "cell_type": "code",
   "execution_count": null,
   "id": "42505dd3-0a2d-4a7f-8a7a-aae54e288b94",
   "metadata": {},
   "outputs": [],
   "source": [
    "%%bash\n",
    "# Copy the .CWA file to raw_data/accelerometer\n",
    "mkdir raw_data/accelerometer\n",
    "mv /Volumes/AX317_43923/CWA-DATA.CWA raw_data/accelerometer/CWA-DATA.CWA\n",
    "ls raw_data/accelerometer"
   ]
  },
  {
   "cell_type": "code",
   "execution_count": null,
   "id": "f5747440-e48c-45ac-9d2f-13fb7cdc4c44",
   "metadata": {},
   "outputs": [],
   "source": [
    "# Accelerometer reading in\n",
    "ax3_data, info = actipy.read_device(\n",
    "    \"raw_data/accelerometer/CWA-DATA.CWA\",\n",
    "    lowpass_hz=20,\n",
    "    calibrate_gravity=True,\n",
    "    detect_nonwear=True,\n",
    "    resample_hz=30,\n",
    ")"
   ]
  },
  {
   "cell_type": "code",
   "execution_count": null,
   "metadata": {},
   "outputs": [],
   "source": [
    "# Plot the acceleromter data\n",
    "ax3_data[[\"x\", \"y\", \"z\"]].plot()\n",
    "plt.show()"
   ]
  },
  {
   "cell_type": "markdown",
   "metadata": {},
   "source": [
    "## Visualise the data together"
   ]
  },
  {
   "cell_type": "code",
   "execution_count": null,
   "id": "a7e39538-9de2-4a73-b67d-cab784f9200c",
   "metadata": {},
   "outputs": [],
   "source": [
    "# img\n",
    "image_datetimes = np.array(small_img_times, dtype=np.datetime64)\n",
    "image_paths = np.array(small_img_paths)\n",
    "\n",
    "# axivity\n",
    "sensor_datetimes = ax3_data.index.to_numpy()\n",
    "accelerometer_readings = ax3_data[[\"x\", \"y\", \"z\"]].to_numpy()\n",
    "light_readings = ax3_data[\"light\"].to_numpy()\n",
    "temperature_readings = ax3_data[\"temperature\"].to_numpy()"
   ]
  },
  {
   "cell_type": "code",
   "execution_count": null,
   "metadata": {},
   "outputs": [],
   "source": [
    "start_time = image_datetimes[50]\n",
    "duration = np.timedelta64(30, \"s\")\n",
    "\n",
    "print(f\"Looking at data from {str(start_time)[11:19]} to {str(start_time + duration)[11:19] }\")\n",
    "\n",
    "sensor_data = [\n",
    "    ImageData(\"Camera\", image_datetimes, image_paths, plot_x_ticks=True, img_zoom=0.22),\n",
    "    ScalarData(\"Temperature\", sensor_datetimes, temperature_readings, plot_x_ticks=False),\n",
    "    ScalarData(\"Light\", sensor_datetimes, light_readings, plot_x_ticks=False),\n",
    "    VectorData(\"Accelerometer\", sensor_datetimes, accelerometer_readings, plot_x_ticks=10, dim_names=[\"x\", \"y\", \"z\"]),\n",
    "]\n",
    "\n",
    "sv = SensorPlot(sensor_data)\n",
    "print(sv) "
   ]
  },
  {
   "cell_type": "code",
   "execution_count": null,
   "metadata": {},
   "outputs": [],
   "source": [
    "fig, ax = sv.plot_window(start_time, duration)\n",
    "plt.show() "
   ]
  },
  {
   "cell_type": "markdown",
   "metadata": {},
   "source": [
    "# Annotate the image data\n",
    "\n",
    "We put together a simple function using maptlotlib to label the image data inline in this jupyter notebook.\n",
    "This is implemented in the `notebook_annotation` function.    \n",
    "    \n",
    "The following commands are used to navigate:\n",
    "- \"help\"/\"h\" - display the commands\n",
    "- \"next\"/. - move to the next N images (if there are any left, but only jumping one image along)\n",
    "- \"prev\"/, - move to the previous N images (if there are any left, but only jumping one image along)\n",
    "- \"copy/ c\" - copy the current annotation to the next image, and display the next N images\n",
    "- \"quit/ q\" - quit the loop, saving the annotations to the numpy array\n",
    "\n",
    "Importantly, you have to come up with a schema: a list of labels you would like to apply to to describe the activities in  each image. \n",
    "\n",
    "To make annotation faster, you also define shortcuts for each label, so that you can just enter the shortcut as opposed to the whole label."
   ]
  },
  {
   "cell_type": "code",
   "execution_count": null,
   "metadata": {},
   "outputs": [],
   "source": [
    "label_dir_name = \"activites\" # change this to something more descriptive\n",
    "\n",
    "schema = { # come up with a better schema\n",
    "    # shortcut: long name\n",
    "    \"s\": \"Sedentary\",\n",
    "    \"l\": \"Light\",\n",
    "    \"m\": \"MVPA\",\n",
    "}\n",
    "\n",
    "notebook_annotation(\n",
    "    label_dir_name, \n",
    "    schema, \n",
    "    image_paths, \n",
    "    image_datetimes,\n",
    "    imgs_to_display = 5,\n",
    "    save_freq = 10,\n",
    "    figsize=(30, 10),\n",
    ")"
   ]
  }
 ],
 "metadata": {
  "kernelspec": {
   "display_name": "Python 3 (ipykernel)",
   "language": "python",
   "name": "python3"
  },
  "language_info": {
   "codemirror_mode": {
    "name": "ipython",
    "version": 3
   },
   "file_extension": ".py",
   "mimetype": "text/x-python",
   "name": "python",
   "nbconvert_exporter": "python",
   "pygments_lexer": "ipython3",
   "version": "3.10.10"
  }
 },
 "nbformat": 4,
 "nbformat_minor": 5
}
